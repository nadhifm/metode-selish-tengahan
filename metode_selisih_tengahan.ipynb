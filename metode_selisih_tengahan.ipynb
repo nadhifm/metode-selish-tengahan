{
  "nbformat": 4,
  "nbformat_minor": 0,
  "metadata": {
    "kernelspec": {
      "display_name": "Python 3",
      "language": "python",
      "name": "python3"
    },
    "language_info": {
      "codemirror_mode": {
        "name": "ipython",
        "version": 3
      },
      "file_extension": ".py",
      "mimetype": "text/x-python",
      "name": "python",
      "nbconvert_exporter": "python",
      "pygments_lexer": "ipython3",
      "version": "3.8.1"
    },
    "colab": {
      "name": "metode selisih tengahan.ipynb",
      "provenance": [],
      "collapsed_sections": [],
      "include_colab_link": true
    }
  },
  "cells": [
    {
      "cell_type": "markdown",
      "metadata": {
        "id": "view-in-github",
        "colab_type": "text"
      },
      "source": [
        "<a href=\"https://colab.research.google.com/github/ucup8991/metode-selish-tengahan/blob/main/metode_selisih_tengahan.ipynb\" target=\"_parent\"><img src=\"https://colab.research.google.com/assets/colab-badge.svg\" alt=\"Open In Colab\"/></a>"
      ]
    },
    {
      "cell_type": "markdown",
      "metadata": {
        "id": "GjzNpt4L87zl"
      },
      "source": [
        "## Diferensiasi Metode Selisih Tengahan"
      ]
    },
    {
      "cell_type": "markdown",
      "metadata": {
        "id": "ZB60_tbn87zm"
      },
      "source": [
        "Nama Kelompok :\n",
        "1. \n"
      ]
    },
    {
      "cell_type": "markdown",
      "metadata": {
        "id": "P9WnEMCo87zm"
      },
      "source": [
        "### Algoritma Selisih Tengahan\n",
        "1.\tMasukkan fungsi f(x) yang akan dicari nilai turunannya \n",
        "2.\tMasukkan nilai pendekatan awal : batas bawah a, batas atas b, dan nilai step h\n",
        "3.\tUntuk x = a sampai dengan b hitung : $f'(x) = \\frac{f(x+h) - f(x-h)}{2h}$\n",
        "4. Hitung turunan tingkat 3 dengan rumus : $f'''(x) = \\frac{f(x+2h) - 2f(x+h) + 2f(x-h) - f(x-2h)}{2h^3}$\n",
        "5. Hitung erorr dengan rumus : $\\frac{-1}{6}h^2f'''(x)$\n",
        "6.\tTampilkan nilai x, f(x), f'(x) dan error"
      ]
    },
    {
      "cell_type": "markdown",
      "metadata": {
        "id": "SxkVwYv887zm"
      },
      "source": [
        "### A. Import Library\n",
        "1.\tTabulate : Digunakan untuk menampilkan data suatu array dalam bentuk tabel.\n",
        "2.\tMath : Digunakan untuk fungsi matematika jika ingin menginputkan fungsi / persamaan yang mengandung fungsi eksponen.\n",
        "3.\tSymPy adalah libraryPython untuk matematika simbolik"
      ]
    },
    {
      "cell_type": "code",
      "metadata": {
        "id": "DGWLZzmU87zm"
      },
      "source": [
        "from sympy import *\n",
        "from math import *\n",
        "from tabulate import tabulate"
      ],
      "execution_count": null,
      "outputs": []
    },
    {
      "cell_type": "markdown",
      "metadata": {
        "id": "-9P1ujUo87zo"
      },
      "source": [
        "### B. Deklarasi Fungsi\n",
        "#### 1. Fungsi fxEval(x, fx) :\n",
        "- Menerima 2 parameter x (nilai x) dan fx (fungsi atau persamaan).\n",
        "- Fungsi eval() berfungsi untuk memparsing (menguraikan) string ekspresi, dan menjalankannya sebagai ekspresi Python murni.\n",
        "- Mengembalikan nilai dari f(x)."
      ]
    },
    {
      "cell_type": "code",
      "metadata": {
        "id": "azUEkXmH87zo"
      },
      "source": [
        "def fxEval(x,fx):\n",
        "    return eval(fx)"
      ],
      "execution_count": null,
      "outputs": []
    },
    {
      "cell_type": "markdown",
      "metadata": {
        "id": "5Zl5vQs_87zo"
      },
      "source": [
        "#### 2. Fungsi show(head, body) :\n",
        "- Menerima 2 parameter yaitu head (list untuk nama header tabel) dan body (list hasil perhitungan metode selisih tengahan).\n",
        "- Fungsi tabulate() digunakan untuk menampilkan data dalam bentuk tabel-tabel sehingga mudah dibaca. parameter floatfmt digunakan untuk memformat tabel yang bernilai float untuk diambil 6 angka dibelakang koma.\n",
        "- Mencetak hasil perhitungan dalam bentuk tabel."
      ]
    },
    {
      "cell_type": "code",
      "metadata": {
        "id": "OsT1TNzt87zo"
      },
      "source": [
        "def show(head, body):\n",
        "    print(tabulate(body, headers=head, floatfmt=\".6f\"))"
      ],
      "execution_count": null,
      "outputs": []
    },
    {
      "cell_type": "markdown",
      "metadata": {
        "id": "JiHjxmxq87zo"
      },
      "source": [
        "#### 3. Fungsi method(fx, a, b, h)\n",
        "- Menerima 4 parameter yaitu fx (fungsi atau persamaan), a (batas bawah), b (batas atas) dan h(nilai step)\n",
        "- Berisi algoritma metode selisih tengahan"
      ]
    },
    {
      "cell_type": "code",
      "metadata": {
        "id": "S237oFX587zo"
      },
      "source": [
        "def method(fx, a, b, h):\n",
        "    i = 1\n",
        "    x = a\n",
        "    result = []\n",
        "    totalError = 0\n",
        "\n",
        "    while (x<b+h):\n",
        "        x1 = x+h\n",
        "        xmin1 = x-h\n",
        "        x2 = x+2*h\n",
        "        xmin2 = x-2*h\n",
        "        f1 = fxEval(x1,fx)\n",
        "        fmin1 = fxEval(xmin1,fx)\n",
        "        f2 = fxEval(x2,fx)\n",
        "        fmin2 = fxEval(xmin2,fx)\n",
        "        f0 = fxEval(x,fx)\n",
        "        ftengah = (f1 - fmin1)/(2*h)\n",
        "        fturunan3 = (f2 - 2*f1 + 2*fmin1 - fmin2 )/(2*h*h*h)\n",
        "        error = abs(-(1/6)*h*h*fturunan3)\n",
        "        result.append([i, x, f0, ftengah, error])\n",
        "        x=x+h\n",
        "        i+=1\n",
        "        totalError+=error\n",
        "\n",
        "    head = [\"i\", \"x\", \"f(x)\", \"f'(x)Tengah\", \"e\"]\n",
        "    show(head, result)"
      ],
      "execution_count": null,
      "outputs": []
    },
    {
      "cell_type": "markdown",
      "metadata": {
        "id": "ukCUIEbn87zo"
      },
      "source": [
        "### C. Input\n",
        "1. Input Fungsi atau Persamaan\n",
        "    - Variabel fx akan diisi dengan fungsi atau persamaan yang diambil dari fungsi input()\n",
        "    - Fungsi input() pada python secara default mengembalikan nilai str atau string.\n",
        "    - Contoh input fungsi atau persamaan :\n",
        "        - exp(-x)*sin(2*x) + 1\n",
        "        - x**2 + 2*x + 1\n",
        "2. Input Batas Bawah, Bawah Atas dan Nilai Step\n",
        "    - Variabel a akan diisi dengan batas bawah yang diambil dari fungsi input()\n",
        "    - Variabel b akan diisi dengan batas atas yang diambil dari fungsi input()\n",
        "    - Variabel h akan diisi dengan batas nilai stpe yang diambil dari fungsi input()\n",
        "    - Fungsi float() akan mengubah input() menjadi tipe data float"
      ]
    },
    {
      "cell_type": "code",
      "metadata": {
        "id": "QcaaeN6m87zo"
      },
      "source": [
        "print(\"================================\")\n",
        "print(\"Gunakan '**' untuk tanda pangkat\")\n",
        "print(\"Contoh penulisan\")\n",
        "print(\"exp(-x)*sin(2*x) + 1\")\n",
        "print(\"x**2 + 2*x + 1\")\n",
        "print(\"================================\")\n",
        "print()\n",
        "fx = input(\"Masukan Persamaan : \")\n",
        "a = float(input(\"Batas bawah : \"))\n",
        "b = float(input(\"Batas atas : \"))\n",
        "h = float(input(\"Nilai step : \"))"
      ],
      "execution_count": null,
      "outputs": []
    },
    {
      "cell_type": "markdown",
      "metadata": {
        "id": "GqhBdnNO87zr"
      },
      "source": [
        "### D. Output\n",
        "#### Pemanggilan Fungsi method()\n",
        "Pemangilan fungsi method dengan paramter fx (fungsi atau persamaan), a (batas bawah), b (batas atas) dan h(nilai step)"
      ]
    },
    {
      "cell_type": "code",
      "metadata": {
        "id": "wf-vgevg87zr"
      },
      "source": [
        "method(fx, a, b, h)"
      ],
      "execution_count": null,
      "outputs": []
    }
  ]
}