{
  "nbformat": 4,
  "nbformat_minor": 0,
  "metadata": {
    "kernelspec": {
      "display_name": "Python 3",
      "language": "python",
      "name": "python3"
    },
    "language_info": {
      "codemirror_mode": {
        "name": "ipython",
        "version": 3
      },
      "file_extension": ".py",
      "mimetype": "text/x-python",
      "name": "python",
      "nbconvert_exporter": "python",
      "pygments_lexer": "ipython3",
      "version": "3.8.1"
    },
    "colab": {
      "name": "metode selisih tengahan.ipynb",
      "provenance": [],
      "include_colab_link": true
    }
  },
  "cells": [
    {
      "cell_type": "markdown",
      "metadata": {
        "id": "view-in-github",
        "colab_type": "text"
      },
      "source": [
        "<a href=\"https://colab.research.google.com/github/ucup8991/metode-selish-tengahan/blob/main/metode_selisih_tengahan.ipynb\" target=\"_parent\"><img src=\"https://colab.research.google.com/assets/colab-badge.svg\" alt=\"Open In Colab\"/></a>"
      ]
    },
    {
      "cell_type": "markdown",
      "metadata": {
        "id": "hLKEpMIxoIvD"
      },
      "source": [
        "## Diferensiasi Metode Selisih Tengahan"
      ]
    },
    {
      "cell_type": "markdown",
      "metadata": {
        "id": "772ENPhMoIvD"
      },
      "source": [
        "Nama Kelompok :\n",
        "1. Elsa Shantyka (19081010151)\n",
        "2. Eriko Indra Permana (19081010091)\n",
        "3. Muhammad Dhiya’ulhaq R.Z (19081010169)\n",
        "4. Muhammad Khairil Amin (1908101004)\n",
        "5. Nadhif Mahardika A (19081010064)\n",
        "6. Taufik Hidayat (19081010027)\n"
      ]
    },
    {
      "cell_type": "markdown",
      "metadata": {
        "id": "JsymBlwtoIvD"
      },
      "source": [
        "### Algoritma Selisih Tengahan\n",
        "1.\tMasukkan fungsi f(x) yang akan dicari nilai turunannya \n",
        "2.\tMasukkan nilai pendekatan awal : batas bawah a, batas atas b, dan nilai step h\n",
        "3.\tUntuk x = a sampai dengan b hitung : $f'(x) = \\frac{f(x+h) - f(x-h)}{2h}$\n",
        "4. Hitung turunan tingkat 3 dengan rumus : $f'''(x) = \\frac{f(x+2h) - 2f(x+h) + 2f(x-h) - f(x-2h)}{2h^3}$\n",
        "5. Hitung erorr dengan rumus : $\\frac{-1}{6}h^2f'''(x)$\n",
        "6.\tTampilkan nilai x, f(x), f'(x) dan error"
      ]
    },
    {
      "cell_type": "markdown",
      "metadata": {
        "id": "c5IZXIMboIvD"
      },
      "source": [
        "### A. Import Library\n",
        "1.\tTabulate : Digunakan untuk menampilkan data suatu array dalam bentuk tabel.\n",
        "2.\tMath : Digunakan untuk fungsi matematika jika ingin menginputkan fungsi / persamaan yang mengandung fungsi eksponen.\n",
        "3.\tSymPy : Digunakan untuk matematika simbolik"
      ]
    },
    {
      "cell_type": "code",
      "metadata": {
        "id": "QYTEfUNUoIvD"
      },
      "source": [
        "from sympy import *\n",
        "from math import *\n",
        "from tabulate import tabulate"
      ],
      "execution_count": 1,
      "outputs": []
    },
    {
      "cell_type": "markdown",
      "metadata": {
        "id": "nVUo6Zw1oIvD"
      },
      "source": [
        "### B. Deklarasi Fungsi\n",
        "#### 1. Fungsi fxEval(x, fx) :\n",
        "- Menerima 2 parameter x (nilai x) dan fx (fungsi atau persamaan).\n",
        "- Fungsi eval() berfungsi untuk memparsing (menguraikan) string ekspresi, dan menjalankannya sebagai ekspresi Python murni.\n",
        "- Mengembalikan nilai dari f(x)."
      ]
    },
    {
      "cell_type": "code",
      "metadata": {
        "id": "mGU-NdJKoIvD"
      },
      "source": [
        "def fxEval(x,fx):\n",
        "    return eval(fx)"
      ],
      "execution_count": 2,
      "outputs": []
    },
    {
      "cell_type": "markdown",
      "metadata": {
        "id": "xtLXsN0IoIvD"
      },
      "source": [
        "#### 2. Fungsi showTable(head, body) :\n",
        "- Menerima 2 parameter yaitu head (list untuk nama header tabel) dan body (list hasil perhitungan metode selisih tengahan).\n",
        "- Fungsi tabulate() digunakan untuk menampilkan data dalam bentuk tabel-tabel sehingga mudah dibaca. parameter floatfmt digunakan untuk memformat tabel yang bernilai float untuk diambil 6 angka dibelakang koma.\n",
        "- Mencetak hasil perhitungan dalam bentuk tabel."
      ]
    },
    {
      "cell_type": "code",
      "metadata": {
        "id": "xuHUD2ZkoIvD"
      },
      "source": [
        "def showTable(head, body):\n",
        "    print(tabulate(body, headers=head, floatfmt=\".6f\"))"
      ],
      "execution_count": 3,
      "outputs": []
    },
    {
      "cell_type": "markdown",
      "metadata": {
        "id": "soHnDBkIoIvD"
      },
      "source": [
        "#### 3. Fungsi method(fx, a, b, h)\n",
        "- Menerima 4 parameter yaitu fx (fungsi atau persamaan), a (batas bawah), b (batas atas) dan h (nilai step)\n",
        "- Berisi algoritma metode selisih tengahan"
      ]
    },
    {
      "cell_type": "code",
      "metadata": {
        "id": "N8q05hdmoIvD"
      },
      "source": [
        "def method(fx, a, b, h):\n",
        "    i = 1\n",
        "    x = a\n",
        "    result = []\n",
        "\n",
        "    while (x<b+h):\n",
        "        f0 = fxEval(x,fx)\n",
        "        x1 = x+h\n",
        "        xmin1 = x-h\n",
        "        x2 = x+2*h\n",
        "        xmin2 = x-2*h\n",
        "        f1 = fxEval(x1,fx)\n",
        "        fmin1 = fxEval(xmin1,fx)\n",
        "        f2 = fxEval(x2,fx)\n",
        "        fmin2 = fxEval(xmin2,fx)\n",
        "        ftengah = (f1 - fmin1)/(2*h)\n",
        "        fturunan3 = (f2 - 2*f1 + 2*fmin1 - fmin2 )/(2*h*h*h)\n",
        "        error = abs(-(1/6)*h*h*fturunan3)\n",
        "        result.append([i, x, f0, ftengah, error])\n",
        "        x=x+h\n",
        "        i+=1\n",
        "\n",
        "    head = [\"i\", \"x\", \"f(x)\", \"f'(x)Tengah\", \"e\"]\n",
        "    showTable(head, result)"
      ],
      "execution_count": 4,
      "outputs": []
    },
    {
      "cell_type": "markdown",
      "metadata": {
        "id": "b4OFNI-toIvD"
      },
      "source": [
        "### C. Input\n",
        "1. Input Fungsi atau Persamaan\n",
        "    - Variabel fx akan diisi dengan fungsi atau persamaan yang diambil dari fungsi input()\n",
        "    - Fungsi input() pada python secara default mengembalikan nilai str atau string.\n",
        "    - Gunakan '**' untuk tanda pangkat\n",
        "    - Contoh input fungsi atau persamaan :\n",
        "    \\begin{equation}exp(-x)*sin(2*x) + 1\\end{equation}\n",
        "    \\begin{equation}x**2 + 2*x + 1\\end{equation}\n",
        "2. Input Batas Bawah, Bawah Atas dan Nilai Step\n",
        "    - Variabel a akan diisi dengan batas bawah yang diambil dari fungsi input()\n",
        "    - Variabel b akan diisi dengan batas atas yang diambil dari fungsi input()\n",
        "    - Variabel h akan diisi dengan batas nilai stpe yang diambil dari fungsi input()\n",
        "    - Fungsi float() akan mengubah input() menjadi tipe data float"
      ]
    },
    {
      "cell_type": "code",
      "metadata": {
        "colab": {
          "base_uri": "https://localhost:8080/"
        },
        "id": "1VJjKiDQoIvD",
        "outputId": "dfed57e8-2638-4fe7-928e-7ad98cb39f61"
      },
      "source": [
        "print(\"================================\")\n",
        "print(\"Gunakan '**' untuk tanda pangkat\")\n",
        "print(\"Contoh penulisan fungsi atau persamaan :\")\n",
        "print(\"exp(-x)*sin(2*x) + 1\")\n",
        "print(\"x**2 + 2*x + 1\")\n",
        "print(\"================================\")\n",
        "print()\n",
        "fx = input(\"Masukan Persamaan : \")\n",
        "a = float(input(\"Batas bawah : \"))\n",
        "b = float(input(\"Batas atas : \"))\n",
        "h = float(input(\"Nilai step : \"))"
      ],
      "execution_count": 5,
      "outputs": [
        {
          "output_type": "stream",
          "text": [
            "================================\n",
            "Gunakan '**' untuk tanda pangkat\n",
            "Contoh penulisan fungsi atau persamaan :\n",
            "exp(-x)*sin(2*x) + 1\n",
            "x**2 + 2*x + 1\n",
            "================================\n",
            "\n",
            "Masukan Persamaan : exp(-x)*sin(2*x) + 1\n",
            "Batas bawah : 0\n",
            "Batas atas : 1\n",
            "Nilai step : 0.05\n"
          ],
          "name": "stdout"
        }
      ]
    },
    {
      "cell_type": "markdown",
      "metadata": {
        "id": "E1WasouooIvE"
      },
      "source": [
        "### D. Output\n",
        "#### Pemanggilan Fungsi method()\n",
        "Pemangilan fungsi method dengan paramter fx (fungsi atau persamaan), a (batas bawah), b (batas atas) dan h (nilai step)"
      ]
    },
    {
      "cell_type": "code",
      "metadata": {
        "colab": {
          "base_uri": "https://localhost:8080/"
        },
        "id": "YSSkvuLGoIvE",
        "outputId": "0fc8c939-b30c-4715-ce67-ac09c9aa06a8"
      },
      "source": [
        "method(fx, a, b, h)"
      ],
      "execution_count": 6,
      "outputs": [
        {
          "output_type": "stream",
          "text": [
            "  i         x      f(x)    f'(x)Tengah         e\n",
            "---  --------  --------  -------------  --------\n",
            "  1  0.000000  1.000000       1.999165  0.000843\n",
            "  2  0.050000  1.094964       1.797634  0.000364\n",
            "  3  0.100000  1.179763       1.593921  0.000074\n",
            "  4  0.150000  1.254357       1.390653  0.000470\n",
            "  5  0.200000  1.318829       1.190204  0.000822\n",
            "  6  0.250000  1.373377       0.994687  0.001131\n",
            "  7  0.300000  1.418297       0.805955  0.001397\n",
            "  8  0.350000  1.453973       0.625607  0.001621\n",
            "  9  0.400000  1.480858       0.454988  0.001805\n",
            " 10  0.450000  1.499471       0.295198  0.001950\n",
            " 11  0.500000  1.510378       0.147106  0.002057\n",
            " 12  0.550000  1.514182       0.011359  0.002131\n",
            " 13  0.600000  1.511514      -0.111604  0.002171\n",
            " 14  0.650000  1.503021      -0.221540  0.002182\n",
            " 15  0.700000  1.489360      -0.318382  0.002167\n",
            " 16  0.750000  1.471183      -0.402225  0.002126\n",
            " 17  0.800000  1.449137      -0.473309  0.002065\n",
            " 18  0.850000  1.423852      -0.532005  0.001985\n",
            " 19  0.900000  1.395937      -0.578793  0.001888\n",
            " 20  0.950000  1.365973      -0.614251  0.001779\n",
            " 21  1.000000  1.334512      -0.639035  0.001659\n"
          ],
          "name": "stdout"
        }
      ]
    },
    {
      "cell_type": "code",
      "metadata": {
        "id": "lOiy8o8eoIvE"
      },
      "source": [
        ""
      ],
      "execution_count": 6,
      "outputs": []
    }
  ]
}
